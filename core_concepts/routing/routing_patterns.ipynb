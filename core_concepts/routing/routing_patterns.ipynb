{
 "cells": [
  {
   "cell_type": "code",
   "execution_count": null,
   "metadata": {},
   "outputs": [],
   "source": [
    "pip install scikit-learn langgraph openai"
   ]
  },
  {
   "cell_type": "code",
   "execution_count": 44,
   "metadata": {},
   "outputs": [],
   "source": [
    "import re\n",
    "import os\n",
    "import json\n",
    "import pickle\n",
    "import numpy as np\n",
    "from typing import Dict, Any, List, Literal\n",
    "from dataclasses import dataclass\n",
    "from sklearn.feature_extraction.text import TfidfVectorizer\n",
    "from sklearn.linear_model import LogisticRegression\n",
    "from sklearn.pipeline import Pipeline\n",
    "#from sentence_transformers import SentenceTransformer\n",
    "from openai import OpenAI\n",
    "from langgraph.graph import StateGraph, END\n",
    "from langgraph.graph.message import add_messages\n",
    "from typing_extensions import TypedDict"
   ]
  },
  {
   "cell_type": "markdown",
   "metadata": {},
   "source": [
    "## Define the state and the result object\n"
   ]
  },
  {
   "cell_type": "code",
   "execution_count": 24,
   "metadata": {},
   "outputs": [],
   "source": [
    "@dataclass\n",
    "class RoutingResult:\n",
    "    route: Literal[\"order_status\", \"product_info\", \"technical_support\",\"billing\",\"general\"]\n",
    "    confidence: float\n",
    "    method: str"
   ]
  },
  {
   "cell_type": "markdown",
   "metadata": {},
   "source": [
    "# LLM Routing\n"
   ]
  },
  {
   "cell_type": "code",
   "execution_count": 25,
   "metadata": {},
   "outputs": [],
   "source": [
    "def llm_based_routing(query: str) -> RoutingResult:\n",
    "    \"\"\"Route using LLM analysis\"\"\"\n",
    "    prompt = f\"\"\"\n",
    "    Analyze the following customer service query and classify it into exactly one category.\n",
    "    \n",
    "    Query: \"{query}\"\n",
    "    \n",
    "    Categories:\n",
    "    - order_status: Questions about order tracking, delivery, shipping status\n",
    "    - product_info: Questions about product specifications, availability, features\n",
    "    - technical_support: Technical issues, troubleshooting, bugs, problems\n",
    "    - billing: Payment, refund, billing, invoice questions\n",
    "    - general: General questions or anything that doesn't fit other categories\n",
    "    \n",
    "    Respond JSON format: {{\"route\": \"\", \"confidence\": 1, \"method\": \"llm\"}}\n",
    "    \"\"\"\n",
    "    client = OpenAI()\n",
    "    response = client.chat.completions.create(\n",
    "        model=\"gpt-4o-mini\",\n",
    "        messages=[\n",
    "            {\"role\": \"system\", \"content\": \"You are a helpful assistant that classifies customer service queries.\"},\n",
    "            {\"role\": \"user\", \"content\": prompt}\n",
    "        ],\n",
    "        max_tokens=50,\n",
    "        temperature=0\n",
    "    )\n",
    "    \n",
    "    # Parse the response content as JSON\n",
    "    response_content = response.choices[0].message.content\n",
    "    response_data = json.loads(response_content)\n",
    "    \n",
    "    # Validate and return the Pydantic model\n",
    "    return RoutingResult(**response_data)"
   ]
  },
  {
   "cell_type": "code",
   "execution_count": 27,
   "metadata": {},
   "outputs": [
    {
     "name": "stdout",
     "output_type": "stream",
     "text": [
      "RoutingResult(route='product_info', confidence=1, method='llm')\n"
     ]
    }
   ],
   "source": [
    "print(llm_based_routing(\"What are the technical specifications of your latest smartphone?\"))"
   ]
  },
  {
   "cell_type": "markdown",
   "metadata": {},
   "source": [
    "# Semantic Routing"
   ]
  },
  {
   "cell_type": "code",
   "execution_count": 30,
   "metadata": {},
   "outputs": [],
   "source": [
    "## convert the route descriptions to embedding using OpenAI embeddings\n",
    "def get_openai_embedding(text: str) -> np.ndarray:\n",
    "    client = OpenAI()\n",
    "    response = client.embeddings.create(\n",
    "        input=text,\n",
    "        model=\"text-embedding-3-small\"\n",
    "    )\n",
    "    return np.array(response.data[0].embedding)\n",
    "\n",
    "\n",
    "\n",
    "def embedding_based_routing(query: str) -> RoutingResult:\n",
    "    \"\"\"Route using embedding similarity\"\"\"\n",
    "    query_embedding = get_openai_embedding(query)\n",
    "    \n",
    "    best_route = None\n",
    "    best_similarity = -1\n",
    "\n",
    "    route_descriptions = {\n",
    "    \"order_status\": \"track order delivery shipping status when will my order arrive\",\n",
    "    \"product_info\": \"product specifications features availability price catalog information\",\n",
    "    \"technical_support\": \"troubleshooting technical issues bugs problems not working\",\n",
    "    \"billing\": \"payment refund billing invoice charge credit card money\",\n",
    "    \"general\": \"general questions help information other inquiries\"\n",
    "    }\n",
    "    \n",
    "    route_embeddings = {route: get_openai_embedding(desc) for route, desc in route_descriptions.items()}\n",
    "    \n",
    "    for route, embedding in route_embeddings.items():\n",
    "        similarity = np.dot(query_embedding, embedding) / (np.linalg.norm(query_embedding) * np.linalg.norm(embedding))\n",
    "        if similarity > best_similarity:\n",
    "            best_similarity = similarity\n",
    "            best_route = route\n",
    "    \n",
    "    return RoutingResult(route=best_route, confidence=float(best_similarity), method=\"embedding\")"
   ]
  },
  {
   "cell_type": "code",
   "execution_count": 31,
   "metadata": {},
   "outputs": [
    {
     "name": "stdout",
     "output_type": "stream",
     "text": [
      "RoutingResult(route='product_info', confidence=0.31293595309519334, method='embedding')\n"
     ]
    }
   ],
   "source": [
    "print(embedding_based_routing(\"What are the technical specifications of your latest smartphone?\"))"
   ]
  },
  {
   "cell_type": "markdown",
   "metadata": {},
   "source": [
    "# Rule-based Routing"
   ]
  },
  {
   "cell_type": "code",
   "execution_count": 33,
   "metadata": {},
   "outputs": [],
   "source": [
    "def rule_based_routing(query: str) -> RoutingResult:\n",
    "        \"\"\"Route using predefined rules and keyword matching\"\"\"\n",
    "        query_lower = query.lower()\n",
    "        \n",
    "        # Define routing rules\n",
    "        rules = {\n",
    "            \"order_status\": [\n",
    "                r'\\border\\b',\n",
    "                r'\\btrack\\b',\n",
    "                r'\\bdelivery\\b',\n",
    "                r'\\bshipping\\b',\n",
    "                r'\\bwhen.*arrive\\b',\n",
    "                r'\\bstatus\\b',\n",
    "                r'\\bpackage\\b'\n",
    "            ],\n",
    "            \"product_info\": [\n",
    "                r'\\bproduct\\b',\n",
    "                r'\\bspecs?\\b',\n",
    "                r'\\bspecifications?\\b',\n",
    "                r'\\bfeatures?\\b',\n",
    "                r'\\bavailable\\b',\n",
    "                r'\\bprice\\b',\n",
    "                r'\\bcost\\b',\n",
    "                r'\\bitem\\b'\n",
    "            ],\n",
    "            \"technical_support\": [\n",
    "                r'\\btechnical\\b',\n",
    "                r'\\bbug\\b',\n",
    "                r'\\berror\\b',\n",
    "                r'\\bfix\\b',\n",
    "                r'\\btroubleshoot\\b',\n",
    "                r'\\bnot working\\b',\n",
    "                r'\\bissue\\b',\n",
    "                r'\\bproblem\\b'\n",
    "            ],\n",
    "            \"billing\": [\n",
    "                r'\\bbilling\\b',\n",
    "                r'\\bpayment\\b',\n",
    "                r'\\brefund\\b',\n",
    "                r'\\bcharge\\b',\n",
    "                r'\\binvoice\\b',\n",
    "                r'\\bmoney\\b',\n",
    "                r'\\bcredit card\\b',\n",
    "                r'\\bcard\\b'\n",
    "            ]\n",
    "        }\n",
    "        \n",
    "        # Check rules for each category\n",
    "        route_scores = {}\n",
    "        for route, patterns in rules.items():\n",
    "            score = sum(1 for pattern in patterns if re.search(pattern, query_lower))\n",
    "            if score > 0:\n",
    "                route_scores[route] = score\n",
    "        \n",
    "        if route_scores:\n",
    "            best_route = max(route_scores, key=route_scores.get)\n",
    "            # Normalize confidence based on matches\n",
    "            confidence = min(route_scores[best_route] / 3, 1.0)\n",
    "        else:\n",
    "            best_route = \"general\"\n",
    "            confidence = 0.5\n",
    "        \n",
    "        return RoutingResult(route=best_route, confidence=confidence, method=\"rule\")"
   ]
  },
  {
   "cell_type": "code",
   "execution_count": 34,
   "metadata": {},
   "outputs": [
    {
     "name": "stdout",
     "output_type": "stream",
     "text": [
      "RoutingResult(route='product_info', confidence=0.3333333333333333, method='rule')\n"
     ]
    }
   ],
   "source": [
    "print(rule_based_routing(\"What are the technical specifications of your latest smartphone?\"))"
   ]
  },
  {
   "cell_type": "markdown",
   "metadata": {},
   "source": [
    "# Machine Learning based Routing"
   ]
  },
  {
   "cell_type": "code",
   "execution_count": 48,
   "metadata": {},
   "outputs": [],
   "source": [
    "def load_ml_classifier(model_path: str = \"customer_service_classifier.pkl\") -> Pipeline:\n",
    "        \"\"\"Load ML classifier from pickle file or create and save new one\"\"\"\n",
    "        model_path = \"customer_service_classifier.pkl\"\n",
    "        \n",
    "        if os.path.exists(model_path):\n",
    "            print(f\"Loading pre-trained classifier from {model_path}\")\n",
    "            with open(model_path, 'rb') as f:\n",
    "                return pickle.load(f)\n",
    "        else:\n",
    "            raise FileNotFoundError(f\"{model_path} not found. Please train the model first.\")\n",
    "\n",
    "def ml_based_routing(query: str) -> RoutingResult:\n",
    "        \"\"\"Route using trained ML classifier loaded from pickle file\"\"\"\n",
    "\n",
    "        ml_classifier = load_ml_classifier()\n",
    "\n",
    "        # Predict using the loaded classifier\n",
    "        prediction = ml_classifier.predict([query])[0]\n",
    "        \n",
    "        # Get prediction probabilities for confidence\n",
    "        probabilities = ml_classifier.predict_proba([query])[0]\n",
    "        confidence = float(max(probabilities))\n",
    "        \n",
    "        return RoutingResult(route=prediction, confidence=confidence, method=\"ml\")"
   ]
  },
  {
   "cell_type": "code",
   "execution_count": 49,
   "metadata": {},
   "outputs": [
    {
     "name": "stdout",
     "output_type": "stream",
     "text": [
      "Loading pre-trained classifier from customer_service_classifier.pkl\n",
      "RoutingResult(route=np.str_('order_status'), confidence=0.4443909051519013, method='ml')\n"
     ]
    }
   ],
   "source": [
    "print(ml_based_routing(\"What is the status of order 124?\"))"
   ]
  },
  {
   "cell_type": "code",
   "execution_count": null,
   "metadata": {},
   "outputs": [],
   "source": []
  }
 ],
 "metadata": {
  "kernelspec": {
   "display_name": ".venv",
   "language": "python",
   "name": "python3"
  },
  "language_info": {
   "codemirror_mode": {
    "name": "ipython",
    "version": 3
   },
   "file_extension": ".py",
   "mimetype": "text/x-python",
   "name": "python",
   "nbconvert_exporter": "python",
   "pygments_lexer": "ipython3",
   "version": "3.12.7"
  }
 },
 "nbformat": 4,
 "nbformat_minor": 2
}
